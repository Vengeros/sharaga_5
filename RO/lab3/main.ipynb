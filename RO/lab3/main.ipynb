{
 "cells": [
  {
   "cell_type": "code",
   "execution_count": 1,
   "metadata": {
    "collapsed": true
   },
   "outputs": [],
   "source": [
    "import numpy as np\n",
    "import cv2\n",
    "from pathlib import Path\n",
    "\n",
    "\n",
    "DATA_DIR = Path('data/')\n",
    "NEGATIVE_DATA_DIR = Path('negative_data/')\n",
    "GRAY_ROI_SIZE = (350, 350)\n",
    "\n",
    "\n",
    "tmp_X = []\n",
    "tmp_y = []\n",
    "\n",
    "face_cascade = cv2.CascadeClassifier(cv2.data.haarcascades + 'haarcascade_frontalface_default.xml')\n",
    "file_images = (file for file in (Path.cwd() / DATA_DIR).glob('**/*') if file.is_file())\n",
    "\n",
    "\n",
    "for index, file in enumerate(file_images):\n",
    "\n",
    "    img = cv2.imread(str(file))\n",
    "    gray = cv2.cvtColor(img, cv2.COLOR_BGR2GRAY)\n",
    "    faces = face_cascade.detectMultiScale(gray, 1.3, 5)\n",
    "    for (x,y,w,h) in faces:\n",
    "        img = cv2.rectangle(img,(x,y),(x+w,y+h),(255,0,0),2)\n",
    "        roi_gray = gray[y:y+h, x:x+w]\n",
    "        roi_color = img[y:y+h, x:x+w]\n",
    "        resized_roi_gray = cv2.resize(roi_gray, GRAY_ROI_SIZE)\n",
    "\n",
    "        # cv2.imwrite(f'detected_faces/[{index}]{w}{h}_faces.jpg', resized_roi_gray)\n",
    "\n",
    "        reshaped = resized_roi_gray.reshape(GRAY_ROI_SIZE[0] * GRAY_ROI_SIZE[1])\n",
    "        tmp_X.append(reshaped)\n",
    "        tmp_y.append(file.parent.name)\n",
    "\n",
    "\n",
    "file_negative_images = (file for file in (Path.cwd() / NEGATIVE_DATA_DIR).glob('*') if file.is_file())\n",
    "\n",
    "for index, file in enumerate(file_negative_images):\n",
    "    img = cv2.imread(str(file))\n",
    "    gray = cv2.cvtColor(img, cv2.COLOR_BGR2GRAY)\n",
    "    resized_roi_gray = cv2.resize(gray, GRAY_ROI_SIZE)\n",
    "    reshaped = resized_roi_gray.reshape(GRAY_ROI_SIZE[0] * GRAY_ROI_SIZE[1])\n",
    "    tmp_X.append(reshaped)\n",
    "    tmp_y.append(file.parent.name)"
   ]
  },
  {
   "cell_type": "code",
   "execution_count": 2,
   "outputs": [],
   "source": [
    "from sklearn.model_selection import train_test_split\n",
    "\n",
    "\n",
    "n_samples = tmp_X[0].shape\n",
    "X = np.array(tmp_X)\n",
    "\n",
    "target_names = set(tmp_y)\n",
    "n_classes = len(target_names)\n",
    "uid_name = {uid: name for uid, name in enumerate(target_names)}\n",
    "name_uid = {name: uid for uid, name in uid_name.items()}\n",
    "y = np.array(list(map(name_uid.get, tmp_y)))\n",
    "\n",
    "X_train, X_test, y_train, y_test = train_test_split(X, y, test_size=0.30, random_state=42)"
   ],
   "metadata": {
    "collapsed": false,
    "pycharm": {
     "name": "#%%\n"
    }
   }
  },
  {
   "cell_type": "code",
   "execution_count": 3,
   "outputs": [
    {
     "name": "stdout",
     "output_type": "stream",
     "text": [
      "Extracting the top 300 eigenfaces from 458 faces\n",
      "done in 47.417s\n",
      "Projecting the input data on the eigenfaces orthonormal basis\n",
      "done in 23.071s\n",
      "Fitting the classifier to the training set\n",
      "done in 51.804s\n",
      "Best estimator found by grid search:\n",
      "SVC(C=1000.0, class_weight='balanced', gamma=0.001)\n",
      "Predicting people's names on the test set\n",
      "done in 0.198s\n",
      "                 precision    recall  f1-score   support\n",
      "\n",
      "  negative_data       0.94      0.89      0.92       132\n",
      "djenifer_lorens       0.87      0.72      0.79        46\n",
      "    rand_person       0.47      0.84      0.60        19\n",
      "\n",
      "       accuracy                           0.85       197\n",
      "      macro avg       0.76      0.82      0.77       197\n",
      "   weighted avg       0.88      0.85      0.86       197\n",
      "\n"
     ]
    }
   ],
   "source": [
    "from sklearn.decomposition import PCA\n",
    "from sklearn.metrics import classification_report\n",
    "from sklearn.model_selection import GridSearchCV\n",
    "from sklearn.svm import SVC\n",
    "from time import time\n",
    "\n",
    "\n",
    "# #############################################################################\n",
    "# Compute a PCA (eigenfaces) on the face dataset (treated as unlabeled\n",
    "# dataset): unsupervised feature extraction / dimensionality reduction\n",
    "\n",
    "n_components = 300\n",
    "\n",
    "print(\"Extracting the top %d eigenfaces from %d faces\" % (n_components, X_train.shape[0]))\n",
    "t0 = time()\n",
    "pca = PCA(n_components=n_components, svd_solver='randomized', whiten=True).fit(X_train)\n",
    "print(\"done in %0.3fs\" % (time() - t0))\n",
    "\n",
    "eigenfaces = pca.components_.reshape((n_components, *GRAY_ROI_SIZE))\n",
    "\n",
    "print(\"Projecting the input data on the eigenfaces orthonormal basis\")\n",
    "t0 = time()\n",
    "X_train_pca = pca.transform(X_train)\n",
    "X_test_pca = pca.transform(X_test)\n",
    "print(\"done in %0.3fs\" % (time() - t0))\n",
    "\n",
    "# #############################################################################\n",
    "# Train a SVM classification model\n",
    "\n",
    "print(\"Fitting the classifier to the training set\")\n",
    "t0 = time()\n",
    "param_grid = {'C': [1e3, 5e3, 1e4, 5e4, 1e5], 'gamma': [0.0001, 0.0005, 0.001, 0.005, 0.01, 0.1], }\n",
    "clf = GridSearchCV(SVC(kernel='rbf', class_weight='balanced'), param_grid)\n",
    "clf = clf.fit(X_train_pca, y_train)\n",
    "print(\"done in %0.3fs\" % (time() - t0))\n",
    "print(\"Best estimator found by grid search:\")\n",
    "print(clf.best_estimator_)\n",
    "\n",
    "# #############################################################################\n",
    "# Quantitative evaluation of the model quality on the test set\n",
    "\n",
    "print(\"Predicting people's names on the test set\")\n",
    "t0 = time()\n",
    "y_pred = clf.predict(X_test_pca)\n",
    "print(\"done in %0.3fs\" % (time() - t0))\n",
    "\n",
    "print(classification_report(y_test, y_pred, target_names=target_names))\n"
   ],
   "metadata": {
    "collapsed": false,
    "pycharm": {
     "name": "#%%\n"
    }
   }
  }
 ],
 "metadata": {
  "kernelspec": {
   "display_name": "Python 3",
   "language": "python",
   "name": "python3"
  },
  "language_info": {
   "codemirror_mode": {
    "name": "ipython",
    "version": 2
   },
   "file_extension": ".py",
   "mimetype": "text/x-python",
   "name": "python",
   "nbconvert_exporter": "python",
   "pygments_lexer": "ipython2",
   "version": "2.7.6"
  }
 },
 "nbformat": 4,
 "nbformat_minor": 0
}